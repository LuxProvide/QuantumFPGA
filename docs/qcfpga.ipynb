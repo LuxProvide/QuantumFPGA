{
 "cells": [
  {
   "attachments": {},
   "cell_type": "markdown",
   "id": "316cc120-271c-4c23-80b4-89bedf6b9eb3",
   "metadata": {},
   "source": [
    "**QCFPGA** is a software library which is a fork of the public [QCGPU software](https://github.com/libtangle/qcgpu) that was designed to perform quantum computing simulations on graphics processing units (GPUs) using [PyOpenCL](./pyopencl_ifpgasdk.md). The main idea behind QCFPGA is to utilize the parallel processing capabilities of modern FPGAs to speed up quantum simulations, which are computationally intensive tasks that can benefit greatly from the pipeline parallelism offered by modern FPGAs. \n",
    "\n",
    "The library provides a high-level interface for defining quantum states, applying gates, and performing measurements, much like other quantum computing frameworks. Nonetheless, the library is far from being complete as the Qiskit (IBM) or Cirq (Google).\n",
    "\n",
    "QFPGA was adapted from QCGPU as a **proof of concept** with the intent to make quantum computing simulations more accessible and faster, leveraging the powerful computational capabilities of FPGAs to handle state vector manipulations typical in quantum computing. \n",
    "\n",
    "\n",
    "<div class=\"alert alert-block alert-info\">\n",
    "⚠️  QCFPGA is a Work In Progress and may be subject to changes in the near future. Our main goal is to take advantage of kernel optimization on FPGAs and develop a multi-node version.For any problem, please contact the support team using our <a href=\"https://servicedesk.lxp.lu/\"> servicedesk portal</a>\n",
    "</div>\n",
    "\n",
    "## Connecting to the jlab portal\n",
    "\n",
    "1. Please connect to the [jlab portal](https://jlab2.lxp-prod.cloud.lxp.lu) first.\n",
    "\n",
    "2. Start a server. Don't forget to select FPGA instead of CPU (see below):\n",
    "\n",
    "\n",
    "<img src=\"https://github.com/LuxProvide/QuantumFPGA/blob/main/docs/images/jlab.png?raw=true\" width=\"500\">\n",
    "  \n",
    "5. Clone the training repository: `git clone https://github.com/LuxProvide/QuantumFPGA`.\n",
    "\n",
    "6. Open the notebook.\n",
    "\n",
    "\n",
    "We need now to create a dedicated IPython kernel to be able to run efficiently on efficiently on FPGA node\n",
    "\n",
    "- Kernels are by default located in this folder `$HOME/.local/share/jupyter/kernels`\n",
    "\n",
    "- \n",
    "\n"
   ]
  },
  {
   "cell_type": "code",
   "execution_count": 2,
   "id": "128841be-a9cb-462c-a5d7-de76bc74156b",
   "metadata": {},
   "outputs": [],
   "source": [
    "%%bash\n",
    "KERNEL=\"$HOME/.local/share/jupyter/kernels/qcfpga\"\n",
    "mkdir -p $KERNEL\n",
    "PRELOAD=\"$KERNEL/start.sh\"\n",
    "JSON=\"$KERNEL/kernel.json\"\n",
    "cat << 'EOF' > $JSON\n",
    "{\n",
    " \"argv\": [\n",
    "  \"{resource_dir}/start.sh\",\n",
    "  \"python\",\n",
    "  \"-m\",\n",
    "  \"ipykernel_launcher\",\n",
    "  \"-f\",\n",
    "  \"{connection_file}\"\n",
    " ],\n",
    " \"display_name\": \"QCFPGA\",\n",
    " \"language\": \"python\",\n",
    " \"metadata\": {\n",
    "  \"debugger\": true\n",
    " }\n",
    "}\n",
    "EOF\n",
    "\n",
    "cat << 'EOF' > $PRELOAD\n",
    "#!/bin/bash\n",
    "module load QCFPGA\n",
    "module load jemalloc\n",
    "export JEMALLOC_PRELOAD=$(jemalloc-config --libdir)/libjemalloc.so.$(jemalloc-config --revision)\n",
    "export LD_PRELOAD=${JEMALLOC_PRELOAD}\n",
    "export PYOPENCL_COMPILER_OUTPUT=1\n",
    "exec \"$@\"\n",
    "EOF\n",
    "\n",
    "chmod u+x $PRELOAD "
   ]
  },
  {
   "cell_type": "code",
   "execution_count": 3,
   "id": "a0c89257-b262-4309-9ccb-ce88bbb8bbb1",
   "metadata": {},
   "outputs": [],
   "source": [
    "%load_ext autoreload\n",
    "%autoreload 2"
   ]
  },
  {
   "cell_type": "code",
   "execution_count": null,
   "id": "78ef7bbd-20c5-43cb-98ca-a0472a5225b8",
   "metadata": {},
   "outputs": [],
   "source": []
  },
  {
   "cell_type": "code",
   "execution_count": 3,
   "id": "968e2aa5-1284-4635-be50-41adfa34fc23",
   "metadata": {},
   "outputs": [
    {
     "data": {
      "text/plain": [
       "array([0.49999997, 0.49999997, 0.        , ..., 0.        , 0.        ,\n",
       "       0.        ], dtype=float32)"
      ]
     },
     "execution_count": 3,
     "metadata": {},
     "output_type": "execute_result"
    }
   ],
   "source": [
    "# Import QCFPGA\n",
    "import qcfpga\n",
    "\n",
    "# Create a new quantum register with 2 qubits\n",
    "register = qcfpga.State(24)\n",
    "register.h(0)\n",
    "register.probabilities()\n",
    "\n"
   ]
  },
  {
   "cell_type": "code",
   "execution_count": null,
   "id": "8759912d-6884-4bb3-8c9d-97f878d66d63",
   "metadata": {},
   "outputs": [],
   "source": []
  },
  {
   "cell_type": "code",
   "execution_count": null,
   "id": "e7487a79-12c0-4746-b04d-ac92d1b80d53",
   "metadata": {},
   "outputs": [],
   "source": []
  },
  {
   "cell_type": "code",
   "execution_count": null,
   "id": "ac0f3a4d-7e01-4aca-952c-09e507e7ea8c",
   "metadata": {},
   "outputs": [],
   "source": []
  },
  {
   "cell_type": "code",
   "execution_count": null,
   "id": "df86aa94-db23-4fb3-93cb-e98443be2435",
   "metadata": {},
   "outputs": [],
   "source": []
  }
 ],
 "metadata": {
  "kernelspec": {
   "display_name": "mykernel",
   "language": "python",
   "name": "mykernel"
  },
  "language_info": {
   "codemirror_mode": {
    "name": "ipython",
    "version": 3
   },
   "file_extension": ".py",
   "mimetype": "text/x-python",
   "name": "python",
   "nbconvert_exporter": "python",
   "pygments_lexer": "ipython3",
   "version": "3.11.3"
  }
 },
 "nbformat": 4,
 "nbformat_minor": 5
}
