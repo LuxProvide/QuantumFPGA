{
 "cells": [
  {
   "attachments": {},
   "cell_type": "markdown",
   "id": "316cc120-271c-4c23-80b4-89bedf6b9eb3",
   "metadata": {},
   "source": [
    "## Connecting to the jlab portal\n",
    "\n",
    "1. Please connect to the [jlab portal](https://jlab2.lxp-prod.cloud.lxp.lu) first.\n",
    "\n",
    "2. Start a server. Don't forget to select FPGA instead of CPU (see below):\n",
    "\n",
    "\n",
    "<img src=\"https://github.com/LuxProvide/QuantumFPGA/blob/main/docs/images/jlab.png?raw=true\" width=\"500\">\n",
    "  \n",
    "3. Clone the training repository: `git clone https://github.com/LuxProvide/QuantumFPGA`\n",
    "\n",
    "4. Finally, open the notebook `qcfpa.ipynb` in JupyterLab.\n"
   ]
  },
  {
   "cell_type": "markdown",
   "id": "9adf4d05-feaa-4fbf-94be-185d22d83383",
   "metadata": {},
   "source": [
    "## Setting the IPython kernel\n",
    "\n",
    "We need now to create a dedicated IPython kernel to be able to run efficiently on efficiently on FPGA node\n",
    "\n",
    "- Kernels are by default located in this folder `$HOME/.local/share/jupyter/kernels`\n",
    "\n",
    "- Execute the following cell to create a custom kernel named **QCFPGA**"
   ]
  },
  {
   "cell_type": "code",
   "execution_count": 1,
   "id": "128841be-a9cb-462c-a5d7-de76bc74156b",
   "metadata": {},
   "outputs": [],
   "source": [
    "%%bash\n",
    "KERNEL=\"$HOME/.local/share/jupyter/kernels/qcfpga\"\n",
    "mkdir -p $KERNEL\n",
    "PRELOAD=\"$KERNEL/start.sh\"\n",
    "JSON=\"$KERNEL/kernel.json\"\n",
    "cat << 'EOF' > $JSON\n",
    "{\n",
    " \"argv\": [\n",
    "  \"{resource_dir}/start.sh\",\n",
    "  \"python\",\n",
    "  \"-m\",\n",
    "  \"ipykernel_launcher\",\n",
    "  \"-f\",\n",
    "  \"{connection_file}\"\n",
    " ],\n",
    " \"display_name\": \"QCFPGA\",\n",
    " \"language\": \"python\",\n",
    " \"metadata\": {\n",
    "  \"debugger\": true\n",
    " }\n",
    "}\n",
    "EOF\n",
    "\n",
    "cat << 'EOF' > $PRELOAD\n",
    "#!/bin/bash\n",
    "module load QCFPGA\n",
    "module load jemalloc\n",
    "export JEMALLOC_PRELOAD=$(jemalloc-config --libdir)/libjemalloc.so.$(jemalloc-config --revision)\n",
    "export LD_PRELOAD=${JEMALLOC_PRELOAD}\n",
    "export PYOPENCL_COMPILER_OUTPUT=1\n",
    "exec \"$@\"\n",
    "EOF\n",
    "\n",
    "chmod u+x $PRELOAD "
   ]
  },
  {
   "cell_type": "markdown",
   "id": "792a2216-598c-42c1-9add-cb853ecfa55f",
   "metadata": {},
   "source": [
    "- Execute the following cell to reload everything"
   ]
  },
  {
   "cell_type": "code",
   "execution_count": 2,
   "id": "a0c89257-b262-4309-9ccb-ce88bbb8bbb1",
   "metadata": {},
   "outputs": [],
   "source": [
    "%load_ext autoreload\n",
    "%autoreload 2"
   ]
  },
  {
   "cell_type": "markdown",
   "id": "1b427ae4-6c2d-4b66-b5c6-7b024152229a",
   "metadata": {},
   "source": [
    "- Now change the current kernel by the new one: **`Kernel --> Change Kernels --> QCFPGA`**\n",
    "- If you see a white circle, the kernel is ready\n",
    "  \n",
    "<img src=\"https://github.com/LuxProvide/QuantumFPGA/blob/main/docs/images/kernel_ready.png?raw=true\" width=\"800\">"
   ]
  },
  {
   "cell_type": "markdown",
   "id": "115087e8-b789-4aac-aa1c-b55cfd88a735",
   "metadata": {},
   "source": [
    "## The QCFPGA library\n",
    "\n",
    "**QCFPGA** is a software library which is a fork of the public [QCGPU software](https://github.com/libtangle/qcgpu) that was designed to perform quantum computing simulations on graphics processing units (GPUs) using [PyOpenCL](./pyopencl_ifpgasdk.md). The main idea behind QCFPGA is to utilize the parallel processing capabilities of modern FPGAs to speed up quantum simulations, which are computationally intensive tasks that can benefit greatly from the pipeline parallelism offered by modern FPGAs. \n",
    "\n",
    "The library provides a high-level interface for defining quantum states, applying gates, and performing measurements, much like other quantum computing frameworks. Nonetheless, the library is far from being complete as the Qiskit (IBM) or Cirq (Google).\n",
    "\n",
    "QFPGA was adapted from QCGPU as a **proof of concept** with the intent to make quantum computing simulations more accessible and faster, leveraging the powerful computational capabilities of FPGAs to handle state vector manipulations typical in quantum computing. \n",
    "\n",
    "\n",
    "<div class=\"alert alert-block alert-info\">\n",
    "⚠️  QCFPGA is a Work In Progress and may be subject to changes in the near future. Our main goal is to take advantage of kernel optimization on FPGAs and develop a multi-node version.For any problem, please contact the support team using our <a href=\"https://servicedesk.lxp.lu/\"> servicedesk portal</a>\n",
    "</div>"
   ]
  },
  {
   "cell_type": "code",
   "execution_count": 3,
   "id": "968e2aa5-1284-4635-be50-41adfa34fc23",
   "metadata": {},
   "outputs": [
    {
     "name": "stderr",
     "output_type": "stream",
     "text": [
      "/apps/USE/easybuild/release/2023.1/software/PyOpenCL/2023.1.4-foss-2023a-ifpgasdk-20.4/lib/python3.11/site-packages/pyopencl/__init__.py:528: CompilerWarning: From-binary build succeeded, but resulted in non-empty logs:\n",
      "Build on <pyopencl.Device 'p520_hpc_m210h_g3x16 : BittWare Stratix 10 MX OpenCL platform (aclbitt_s10mx_pcie0)' on 'Intel(R) FPGA SDK for OpenCL(TM)' at 0x153d920e4898> succeeded, but said:\n",
      "\n",
      "Trivial build\n",
      "  lambda: self._prg.build(options_bytes, devices),\n"
     ]
    },
    {
     "data": {
      "text/plain": [
       "array([0.5, 0.5], dtype=float32)"
      ]
     },
     "execution_count": 3,
     "metadata": {},
     "output_type": "execute_result"
    }
   ],
   "source": [
    "# Import QCFPGA\n",
    "import qcfpga\n",
    "import numpy as np\n",
    "\n",
    "# Create a new quantum register with 1 qubits\n",
    "register = qcfpga.State(1)\n",
    "# Let's try the Hadamard gate\n",
    "register.h(0)\n",
    "np.round(register.probabilities(),2)"
   ]
  },
  {
   "cell_type": "markdown",
   "id": "58016703-40cc-4e2a-8411-79ffe2414631",
   "metadata": {},
   "source": [
    "### Built-In Gates\n",
    "\n",
    "In Quantum Computing, gates are used to manipulate quantum registers and\n",
    "to implement quantum algorithms.\n",
    "\n",
    "There are a number of gates built into **QCGPU** and **QCFPGA**. They can all be applied the same way:"
   ]
  },
  {
   "cell_type": "code",
   "execution_count": 4,
   "id": "e7487a79-12c0-4746-b04d-ac92d1b80d53",
   "metadata": {},
   "outputs": [
    {
     "data": {
      "text/plain": [
       "array([0. , 0. , 0.5, 0.5], dtype=float32)"
      ]
     },
     "execution_count": 4,
     "metadata": {},
     "output_type": "execute_result"
    }
   ],
   "source": [
    "register = qcfpga.State(2)\n",
    "\n",
    "register.h(0) # Applies the Hadamard  gate to the first qubit.\n",
    "register.x(1) # Applies a pauli-x  gate to the second qubit.\n",
    "np.round(register.probabilities(),2)"
   ]
  },
  {
   "cell_type": "markdown",
   "id": "ae214729-cec7-4443-92ee-6d2184168ea7",
   "metadata": {},
   "source": [
    "These are the gates that can be applied to a register:\n",
    "\n",
    "- The Hadamard gate: **h** - `state.h(0)`\n",
    "\n",
    "- The S gate: **s** - `state.s(0)`\n",
    "\n",
    "- The T gate: **t** - `state.t(0)`\n",
    "\n",
    "- The Pauli-X / NOT gate: **x** - `state.x(0)`\n",
    "\n",
    "- The Pauli-Y gate: **y** - `state.y(0)`\n",
    "\n",
    "- The Pauli-Z gate: **z** - `state.z(0)`\n",
    "\n",
    "- The CNOT gate: **cx** -`state.cx(0, 1) # CNOT with control = 0, target = 1`\n",
    "\n",
    "- The SWAP gate: **swap** -`state.swap(0,1) # Swaps the 0th and 1st qubit`\n",
    "\n",
    "- The Toffoli gate: **toffoli** -`state.toffoli(0, 1, 2) # Toffoli with controls = (0, 1), target = 2`\n"
   ]
  },
  {
   "cell_type": "code",
   "execution_count": 5,
   "id": "bfbb14dc-5504-46c2-a753-ff773fe23c18",
   "metadata": {},
   "outputs": [
    {
     "data": {
      "text/plain": [
       "array([0.5, 0. , 0. , 0.5, 0. , 0. , 0. , 0. , 0. , 0. , 0. , 0. , 0. ,\n",
       "       0. , 0. , 0. , 0. , 0. , 0. , 0. , 0. , 0. , 0. , 0. , 0. , 0. ,\n",
       "       0. , 0. , 0. , 0. , 0. , 0. ], dtype=float32)"
      ]
     },
     "execution_count": 5,
     "metadata": {},
     "output_type": "execute_result"
    }
   ],
   "source": [
    "''' \n",
    "For example, you can also use any of the gates as controlled gates. \n",
    "Controlled gates can be also used to entangle state\n",
    "'''\n",
    "x = qcfpga.gate.x()\n",
    "h = qcfpga.gate.h()\n",
    "\n",
    "register = qcfpga.State(5)\n",
    "register.apply_gate(h,0)\n",
    "register.apply_controlled_gate(x, 0, 1)\n",
    "np.round(register.probabilities(),2)"
   ]
  },
  {
   "cell_type": "markdown",
   "id": "cc878fdb-4333-4b82-b428-0b3f9ddaa214",
   "metadata": {},
   "source": [
    "<img src=\"https://github.com/LuxProvide/QuantumFPGA/blob/main/docs/images/quirks_cnot.png?raw=true\" width=\"800\">\n",
    "\n",
    "### Applying a gate to all qubits in parallel"
   ]
  },
  {
   "cell_type": "code",
   "execution_count": 6,
   "id": "7ddee6b3-b74f-4f5a-8a14-3e4bf36c7f1b",
   "metadata": {},
   "outputs": [
    {
     "data": {
      "text/plain": [
       "array([0.125, 0.125, 0.125, 0.125, 0.125, 0.125, 0.125, 0.125],\n",
       "      dtype=float32)"
      ]
     },
     "execution_count": 6,
     "metadata": {},
     "output_type": "execute_result"
    }
   ],
   "source": [
    "'''\n",
    "It is also trivial to apply a gate to all qubit of a register\n",
    "'''\n",
    "h = qcfpga.gate.h()\n",
    "\n",
    "register = qcfpga.State(3)\n",
    "register.apply_all(h)\n",
    "np.round(register.probabilities(),3)\n"
   ]
  },
  {
   "cell_type": "markdown",
   "id": "52bf5de1-92df-4f05-8475-b838673b35d9",
   "metadata": {},
   "source": [
    "<img src=\"https://github.com/LuxProvide/QuantumFPGA/blob/main/docs/images/quirks_all.png?raw=true\" width=\"800\" >"
   ]
  },
  {
   "cell_type": "markdown",
   "id": "d874ac67-9ac8-4904-913e-d01b67e9c1b7",
   "metadata": {},
   "source": [
    "### Define your own gate\n",
    "\n",
    "- Custom gates in QCFPGA use the `qcfpga.Gate` class.\n",
    "\n",
    "- Only single gate qubits can be defined\n",
    "\n",
    "<div class=\"alert alert-block alert-info\">\n",
    "⚠️  The input to the `Gate` constructor is checked to be a 2x2 unitary matrix.\n",
    "</div>\n"
   ]
  },
  {
   "cell_type": "code",
   "execution_count": 7,
   "id": "14761558-7af7-447e-abc2-3ae7a5528895",
   "metadata": {},
   "outputs": [
    {
     "data": {
      "text/plain": [
       "array([0.422, 0.141, 0.141, 0.047, 0.141, 0.047, 0.047, 0.016],\n",
       "      dtype=float32)"
      ]
     },
     "execution_count": 7,
     "metadata": {},
     "output_type": "execute_result"
    }
   ],
   "source": [
    "gate_matrix = np.array([\n",
    "    [np.cos(np.pi/6), -np.sin(np.pi/6)],\n",
    "    [np.sin(np.pi/6),np.cos(np.pi/6)]\n",
    "])\n",
    "\n",
    "gate = qcfpga.Gate(gate_matrix)\n",
    "register = qcfpga.State(3)\n",
    "register.apply_all(gate)\n",
    "np.round(register.probabilities(),3)\n"
   ]
  },
  {
   "cell_type": "markdown",
   "id": "95b05898-1c56-4c8f-8c7e-b91c1f50ee66",
   "metadata": {},
   "source": [
    "<img src=\"https://github.com/LuxProvide/QuantumFPGA/blob/main/docs/images/quirks_custom.png?raw=true\" width=\"800\" >"
   ]
  },
  {
   "cell_type": "markdown",
   "id": "9cf9e2c4-2d48-4625-b9fa-63c082a901ff",
   "metadata": {},
   "source": [
    "### Mesuring register\n",
    "\n",
    "- Normally, real qubits will collapse, i.e., become classical qubits after measuring the register\n",
    "- For obvious reason, it would require to rebuild a new circuit and repeat the experience"
   ]
  },
  {
   "cell_type": "code",
   "execution_count": 12,
   "id": "a6e54822-b0ac-4796-9348-9bfafdabb899",
   "metadata": {},
   "outputs": [
    {
     "data": {
      "text/plain": [
       "{'00': 475, '11': 525}"
      ]
     },
     "execution_count": 12,
     "metadata": {},
     "output_type": "execute_result"
    }
   ],
   "source": [
    "# Create a new quantum register with 2 qubits\n",
    "register = qcfpga.State(2)\n",
    "\n",
    "# Apply a hadamard (H) gate to the first qubit.\n",
    "# You should note that the qubits are zero indexed\n",
    "register.h(0)\n",
    "\n",
    "# Add a controlled not (CNOT/CX) gate, with the control as\n",
    "# the first qubit and target as the second.\n",
    "# The register will now be in the bell state.\n",
    "register.cx(0, 1)\n",
    "\n",
    "# Perform a measurement with 1000 samples\n",
    "results = register.measure(samples=1000)\n",
    "results"
   ]
  },
  {
   "cell_type": "markdown",
   "id": "c156ea9f-8b13-4081-a78a-7b0c11dd8e04",
   "metadata": {},
   "source": [
    "<img src=\"https://github.com/LuxProvide/QuantumFPGA/blob/main/docs/images/quirks_bell_state.png?raw=true\" width=\"800\" >"
   ]
  },
  {
   "cell_type": "markdown",
   "id": "0a5f87b5-edb0-4f98-a285-9ae1e8666919",
   "metadata": {},
   "source": [
    "## Use case: Bernstein-Vazirani Algorithm\n",
    "\n",
    "The Bernstein-Vazirani algorithm is a quantum algorithm that highlights the superiority of quantum computers in solving specific problems more efficiently than classical computers. This algorithm solves the problem of determining a hidden binary string with minimal queries to a given function.\n",
    "\n",
    "## Problem Setup\n",
    "You are given a black box function (oracle) that computes:\n",
    "- **Function**: $ f(x) = a \\cdot x $\n",
    "  - **a** is a hidden string of $ n $ bits.\n",
    "  - **x** is an  $n$-bit string.\n",
    "  - The dot product $a \\cdot x $ is calculated as $ (a_1x_1 + a_2x_2 + \\dots + a_nx_n) $ modulo 2.\n",
    "- **Goal**: Determine the hidden string $a $ using the fewest number of queries to $f$.\n",
    "\n",
    "## Classical Approach\n",
    "Classically, you would need to make $n$ queries to the oracle, each with x set to vectors representing each bit position (e.g., $ 100...0, 010...0, \\ldots, 000...1 $), revealing one bit of $ a $ per query.\n",
    "\n",
    "## Quantum Solution\n",
    "The Bernstein-Vazirani algorithm uses a quantum computer to identify $ a $ with a single query, showing an exponential improvement in query complexity.\n",
    "\n",
    "### Steps of the Algorithm:\n",
    "1. **Initialization**: Start with $ n $ qubits in the state $ |0\\rangle $ and one auxiliary qubit in the state $|1\\rangle $.\n",
    "\n",
    "2. **Apply Hadamard Gates**: Apply Hadamard gates to all qubits, transforming each $ |0\\rangle $to $ \\frac{|0\\rangle + |1\\rangle}{\\sqrt{2}} $ and $ |1\\rangle $ to $\\frac{|0\\rangle - |1\\rangle}{\\sqrt{2}}$.\n",
    "\n",
    "3. **Query the Oracle**: The function $ f(x) $ modifies the auxiliary qubit by $ (-1)^{f(x)} $, encoding the dot product $ a \\cdot x $ in the quantum state.\n",
    "\n",
    "4. **Apply Hadamard Gates Again**: Applying Hadamard gates again to all but the auxiliary qubit uses quantum interference to amplify the probability amplitudes of the states corresponding to $ a$.\n",
    "\n",
    "5. **Measurement**: Measure the first $ n $ qubits to directly obtain $a $ in binary form.\n",
    "\n",
    "## Conclusion and Significance\n",
    "The Bernstein-Vazirani algorithm demonstrates quantum parallelism and serves as an introductory example for more complex quantum algorithms like Shor's and Grover's algorithms, highlighting quantum computational speed-ups.\n"
   ]
  },
  {
   "cell_type": "code",
   "execution_count": 9,
   "id": "9e9f8695-7faf-4b68-980b-9a6d6ce40c98",
   "metadata": {},
   "outputs": [
    {
     "name": "stdout",
     "output_type": "stream",
     "text": [
      "{'00000000000001000110': 1000}\n"
     ]
    }
   ],
   "source": [
    "import qcfpga\n",
    "\n",
    "num_qubits = 20 # The number of qubits to use\n",
    "a = 70 # The hidden integer, bitstring is 1100101\n",
    "\n",
    "register = qcfpga.State(num_qubits) # Create a new quantum register\n",
    "\n",
    "register.apply_all(qcfpga.gate.h()) # Apply a hadamard gate to each qubit\n",
    "\n",
    "# Apply the inner products oracle\n",
    "for i in range(num_qubits):\n",
    "    if a & (1 << i) != 0:\n",
    "        register.z(i)\n",
    "register.apply_all(qcfpga.gate.h()) # Apply a hadamard gate to each qubit\n",
    "\n",
    "results = register.measure(samples=1000) # Measure the register (sample 1000 times)\n",
    "print(results)"
   ]
  },
  {
   "cell_type": "code",
   "execution_count": null,
   "id": "858483c1-3c93-4656-9e39-11ebf5a2dbf7",
   "metadata": {},
   "outputs": [],
   "source": []
  }
 ],
 "metadata": {
  "kernelspec": {
   "display_name": "QCFPGA",
   "language": "python",
   "name": "qcfpga"
  },
  "language_info": {
   "codemirror_mode": {
    "name": "ipython",
    "version": 3
   },
   "file_extension": ".py",
   "mimetype": "text/x-python",
   "name": "python",
   "nbconvert_exporter": "python",
   "pygments_lexer": "ipython3",
   "version": "3.11.3"
  }
 },
 "nbformat": 4,
 "nbformat_minor": 5
}
