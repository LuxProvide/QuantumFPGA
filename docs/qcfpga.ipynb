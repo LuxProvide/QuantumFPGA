{
 "cells": [
  {
   "attachments": {},
   "cell_type": "markdown",
   "id": "316cc120-271c-4c23-80b4-89bedf6b9eb3",
   "metadata": {},
   "source": [
    "## Connecting to the jlab portal\n",
    "\n",
    "1. Please connect to the [jlab portal](https://jlab2.lxp-prod.cloud.lxp.lu) first.\n",
    "\n",
    "2. Start a server. Don't forget to select FPGA instead of CPU (see below):\n",
    "\n",
    "\n",
    "<img src=\"https://github.com/LuxProvide/QuantumFPGA/blob/main/docs/images/jlab.png?raw=true\" width=\"500\">\n",
    "  \n",
    "3. Clone the training repository: `git clone https://github.com/LuxProvide/QuantumFPGA`\n",
    "\n",
    "4. Finally, open the notebook `qcfpa.ipynb` in JupyterLab.\n"
   ]
  },
  {
   "cell_type": "markdown",
   "id": "9adf4d05-feaa-4fbf-94be-185d22d83383",
   "metadata": {},
   "source": [
    "## Setting the IPython kernel\n",
    "\n",
    "We need now to create a dedicated IPython kernel to be able to run efficiently on efficiently on FPGA node\n",
    "\n",
    "- Kernels are by default located in this folder `$HOME/.local/share/jupyter/kernels`\n",
    "\n",
    "- Execute the following cell to create a custom kernel named **QCFPGA**"
   ]
  },
  {
   "cell_type": "code",
   "execution_count": 3,
   "id": "128841be-a9cb-462c-a5d7-de76bc74156b",
   "metadata": {},
   "outputs": [],
   "source": [
    "%%bash\n",
    "KERNEL=\"$HOME/.local/share/jupyter/kernels/qcfpga\"\n",
    "mkdir -p $KERNEL\n",
    "PRELOAD=\"$KERNEL/start.sh\"\n",
    "JSON=\"$KERNEL/kernel.json\"\n",
    "cat << 'EOF' > $JSON\n",
    "{\n",
    " \"argv\": [\n",
    "  \"{resource_dir}/start.sh\",\n",
    "  \"python\",\n",
    "  \"-m\",\n",
    "  \"ipykernel_launcher\",\n",
    "  \"-f\",\n",
    "  \"{connection_file}\"\n",
    " ],\n",
    " \"display_name\": \"QCFPGA\",\n",
    " \"language\": \"python\",\n",
    " \"metadata\": {\n",
    "  \"debugger\": true\n",
    " }\n",
    "}\n",
    "EOF\n",
    "\n",
    "cat << 'EOF' > $PRELOAD\n",
    "#!/bin/bash\n",
    "module load QCFPGA\n",
    "module load jemalloc\n",
    "export JEMALLOC_PRELOAD=$(jemalloc-config --libdir)/libjemalloc.so.$(jemalloc-config --revision)\n",
    "export LD_PRELOAD=${JEMALLOC_PRELOAD}\n",
    "export PYOPENCL_COMPILER_OUTPUT=1\n",
    "exec \"$@\"\n",
    "EOF\n",
    "\n",
    "chmod u+x $PRELOAD "
   ]
  },
  {
   "cell_type": "markdown",
   "id": "792a2216-598c-42c1-9add-cb853ecfa55f",
   "metadata": {},
   "source": [
    "- Execute the following cell to reload everything"
   ]
  },
  {
   "cell_type": "code",
   "execution_count": 3,
   "id": "a0c89257-b262-4309-9ccb-ce88bbb8bbb1",
   "metadata": {},
   "outputs": [],
   "source": [
    "%load_ext autoreload\n",
    "%autoreload 2"
   ]
  },
  {
   "cell_type": "markdown",
   "id": "1b427ae4-6c2d-4b66-b5c6-7b024152229a",
   "metadata": {},
   "source": [
    "- Now change the current kernel by the new one: **`Kernel --> Change Kernels --> QCFPGA`**\n",
    "- If you see a white circle, the kernel is ready\n",
    "  \n",
    "<img src=\"https://github.com/LuxProvide/QuantumFPGA/blob/main/docs/images/kernel_ready.png?raw=true\" width=\"500\">"
   ]
  },
  {
   "cell_type": "markdown",
   "id": "115087e8-b789-4aac-aa1c-b55cfd88a735",
   "metadata": {},
   "source": [
    "## The QCFPGA library\n",
    "\n",
    "**QCFPGA** is a software library which is a fork of the public [QCGPU software](https://github.com/libtangle/qcgpu) that was designed to perform quantum computing simulations on graphics processing units (GPUs) using [PyOpenCL](./pyopencl_ifpgasdk.md). The main idea behind QCFPGA is to utilize the parallel processing capabilities of modern FPGAs to speed up quantum simulations, which are computationally intensive tasks that can benefit greatly from the pipeline parallelism offered by modern FPGAs. \n",
    "\n",
    "The library provides a high-level interface for defining quantum states, applying gates, and performing measurements, much like other quantum computing frameworks. Nonetheless, the library is far from being complete as the Qiskit (IBM) or Cirq (Google).\n",
    "\n",
    "QFPGA was adapted from QCGPU as a **proof of concept** with the intent to make quantum computing simulations more accessible and faster, leveraging the powerful computational capabilities of FPGAs to handle state vector manipulations typical in quantum computing. \n",
    "\n",
    "\n",
    "<div class=\"alert alert-block alert-info\">\n",
    "⚠️  QCFPGA is a Work In Progress and may be subject to changes in the near future. Our main goal is to take advantage of kernel optimization on FPGAs and develop a multi-node version.For any problem, please contact the support team using our <a href=\"https://servicedesk.lxp.lu/\"> servicedesk portal</a>\n",
    "</div>"
   ]
  },
  {
   "cell_type": "code",
   "execution_count": 4,
   "id": "968e2aa5-1284-4635-be50-41adfa34fc23",
   "metadata": {},
   "outputs": [
    {
     "data": {
      "text/plain": [
       "array([0.5, 0.5], dtype=float32)"
      ]
     },
     "execution_count": 4,
     "metadata": {},
     "output_type": "execute_result"
    }
   ],
   "source": [
    "# Import QCFPGA\n",
    "import qcfpga\n",
    "import numpy as np\n",
    "\n",
    "# Create a new quantum register with 1 qubits\n",
    "register = qcfpga.State(1)\n",
    "# Let's try the Hadamard gate\n",
    "register.h(0)\n",
    "np.round(register.probabilities(),2)"
   ]
  },
  {
   "cell_type": "markdown",
   "id": "58016703-40cc-4e2a-8411-79ffe2414631",
   "metadata": {},
   "source": [
    "### Built-In Gates\n",
    "\n",
    "In Quantum Computing, gates are used to manipulate quantum registers and\n",
    "to implement quantum algorithms.\n",
    "\n",
    "There are a number of gates built into **QCGPU** and **QCFPGA**. They can all be applied the same way:"
   ]
  },
  {
   "cell_type": "code",
   "execution_count": 11,
   "id": "e7487a79-12c0-4746-b04d-ac92d1b80d53",
   "metadata": {},
   "outputs": [
    {
     "data": {
      "text/plain": [
       "array([0. , 0. , 0.5, 0.5], dtype=float32)"
      ]
     },
     "execution_count": 11,
     "metadata": {},
     "output_type": "execute_result"
    }
   ],
   "source": [
    "register = qcfpga.State(2)\n",
    "\n",
    "register.h(0) # Applies the Hadamard  gate to the first qubit.\n",
    "register.x(1) # Applies a pauli-x  gate to the second qubit.\n",
    "np.round(register.probabilities(),2)"
   ]
  },
  {
   "cell_type": "markdown",
   "id": "ae214729-cec7-4443-92ee-6d2184168ea7",
   "metadata": {},
   "source": [
    "These are the gates that can be applied to a register:\n",
    "\n",
    "- The Hadamard gate: **h** - `state.h(0)`\n",
    "\n",
    "- The S gate: **s** - `state.s(0)`\n",
    "\n",
    "- The T gate: **t** - `state.t(0)`\n",
    "\n",
    "- The Pauli-X / NOT gate: **x** - `state.x(0)`\n",
    "\n",
    "- The Pauli-Y gate: **y** - `state.y(0)`\n",
    "\n",
    "- The Pauli-Z gate: **z** - `state.z(0)`\n",
    "\n",
    "- The CNOT gate: **cx** -`state.cx(0, 1) # CNOT with control = 0, target = 1`\n",
    "\n",
    "- The SWAP gate: **swap** -`state.swap(0,1) # Swaps the 0th and 1st qubit`\n",
    "\n",
    "- The Toffoli gate: **toffoli** -`state.toffoli(0, 1, 2) # Toffoli with controls = (0, 1), target = 2`\n"
   ]
  },
  {
   "cell_type": "code",
   "execution_count": 12,
   "id": "bfbb14dc-5504-46c2-a753-ff773fe23c18",
   "metadata": {},
   "outputs": [
    {
     "data": {
      "text/plain": [
       "array([0.5, 0. , 0. , 0.5, 0. , 0. , 0. , 0. , 0. , 0. , 0. , 0. , 0. ,\n",
       "       0. , 0. , 0. , 0. , 0. , 0. , 0. , 0. , 0. , 0. , 0. , 0. , 0. ,\n",
       "       0. , 0. , 0. , 0. , 0. , 0. ], dtype=float32)"
      ]
     },
     "execution_count": 12,
     "metadata": {},
     "output_type": "execute_result"
    }
   ],
   "source": [
    "''' \n",
    "For example, you can also use any of the gates as controlled gates. \n",
    "Controlled gates can be also used to entangle state\n",
    "'''\n",
    "x = qcfpga.gate.x()\n",
    "h = qcfpga.gate.h()\n",
    "\n",
    "register = qcfpga.State(5)\n",
    "register.apply_gate(h,0)\n",
    "register.apply_controlled_gate(x, 0, 1)\n",
    "np.round(register.probabilities(),2)"
   ]
  },
  {
   "cell_type": "markdown",
   "id": "cc878fdb-4333-4b82-b428-0b3f9ddaa214",
   "metadata": {},
   "source": [
    "<img src=\"https://github.com/LuxProvide/QuantumFPGA/blob/main/docs/images/quirks_cnot.png?raw=true\" width=\"500\">\n",
    "\n",
    "### Applying a gate to all qubits in parallel"
   ]
  },
  {
   "cell_type": "code",
   "execution_count": 16,
   "id": "7ddee6b3-b74f-4f5a-8a14-3e4bf36c7f1b",
   "metadata": {},
   "outputs": [
    {
     "data": {
      "text/plain": [
       "array([0.125, 0.125, 0.125, 0.125, 0.125, 0.125, 0.125, 0.125],\n",
       "      dtype=float32)"
      ]
     },
     "execution_count": 16,
     "metadata": {},
     "output_type": "execute_result"
    }
   ],
   "source": [
    "'''\n",
    "It is also trivial to apply a gate to all qubit of a register\n",
    "'''\n",
    "h = qcfpga.gate.h()\n",
    "\n",
    "register = qcfpga.State(3)\n",
    "register.apply_all(h)\n",
    "np.round(register.probabilities(),3)\n"
   ]
  },
  {
   "cell_type": "markdown",
   "id": "52bf5de1-92df-4f05-8475-b838673b35d9",
   "metadata": {},
   "source": [
    "<img src=\"https://github.com/LuxProvide/QuantumFPGA/blob/main/docs/images/quirks_all.png?raw=true\" width=\"800\" >"
   ]
  },
  {
   "cell_type": "markdown",
   "id": "d874ac67-9ac8-4904-913e-d01b67e9c1b7",
   "metadata": {},
   "source": [
    "### Define your own gate\n",
    "\n",
    "- Custom gates in QCFPGA use the `qcfpga.Gate` class.\n",
    "\n",
    "- Only single gate qubits can be defined\n",
    "\n",
    "<div class=\"alert alert-block alert-info\">\n",
    "⚠️  The input to the `Gate` constructor is checked to be a 2x2 unitary matrix.\n",
    "</div>\n"
   ]
  },
  {
   "cell_type": "code",
   "execution_count": 17,
   "id": "14761558-7af7-447e-abc2-3ae7a5528895",
   "metadata": {},
   "outputs": [
    {
     "data": {
      "text/plain": [
       "array([1., 0., 0., 0., 0., 0., 0., 0.], dtype=float32)"
      ]
     },
     "execution_count": 17,
     "metadata": {},
     "output_type": "execute_result"
    }
   ],
   "source": [
    "gate_matrix = np.array([\n",
    "    [1, 0],\n",
    "    [0, np.exp(1j * np.pi / 4)]\n",
    "])\n",
    "\n",
    "gate = qcfpga.Gate(gate_matrix)\n",
    "register = qcfpga.State(3)\n",
    "register.apply_all(gate)\n",
    "np.round(register.probabilities(),3)\n"
   ]
  },
  {
   "cell_type": "code",
   "execution_count": null,
   "id": "b2f29692-8ae3-4b29-90d5-1e2ee727efdc",
   "metadata": {},
   "outputs": [],
   "source": []
  }
 ],
 "metadata": {
  "kernelspec": {
   "display_name": "QCFPGA",
   "language": "python",
   "name": "qcfpga"
  },
  "language_info": {
   "codemirror_mode": {
    "name": "ipython",
    "version": 3
   },
   "file_extension": ".py",
   "mimetype": "text/x-python",
   "name": "python",
   "nbconvert_exporter": "python",
   "pygments_lexer": "ipython3",
   "version": "3.11.3"
  }
 },
 "nbformat": 4,
 "nbformat_minor": 5
}
